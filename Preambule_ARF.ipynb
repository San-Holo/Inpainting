{
 "cells": [
  {
   "cell_type": "code",
   "execution_count": 3,
   "metadata": {},
   "outputs": [],
   "source": [
    "import matplotlib.pyplot as plt\n",
    "import numpy as np\n",
    "from sklearn.linear_model import LinearRegression as LR, Ridge as R, Lasso as LA "
   ]
  },
  {
   "cell_type": "code",
   "execution_count": 40,
   "metadata": {},
   "outputs": [],
   "source": [
    "def load_usps(file):\n",
    "    with open(file,\"r\") as f:\n",
    "        f.readline()\n",
    "        data = [[float(x) for x in l.split()] for l in f if len(l.split())>2]\n",
    "    tmp = np.array(data)\n",
    "    n = tmp.shape[0]\n",
    "    tmp[:, 1:] = (tmp[:, 1:] - tmp[:, 1:].min(axis=1).reshape(n, 1)) / tmp[:, 1:].max(axis=1).reshape(n, 1)\n",
    "    return tmp[:, 1:], tmp[:, 0].astype(int)\n",
    "\n",
    "x_train, y_train = load_usps(\"USPS/USPS_train.txt\")\n",
    "x_test,  y_test  = load_usps(\"USPS/USPS_test.txt\")\n",
    "\n",
    "#On centre et on réduit pour les calculs futurs\n",
    "x_train = (x_train - x_train.mean()) / x_train.std()\n",
    "x_test  = (x_test  - x_test.mean()) / x_test.std()"
   ]
  },
  {
   "cell_type": "code",
   "execution_count": 50,
   "metadata": {},
   "outputs": [
    {
     "name": "stdout",
     "output_type": "stream",
     "text": [
      "nb_zeros_lin : 0\n",
      "mean_lin : 0.008772592549280289\n",
      "score_lin : 0.5890606133281702\n",
      "\n",
      "\n"
     ]
    }
   ],
   "source": [
    "#Régression Linéaire\n",
    "lin = LR()\n",
    "lin.fit(x_train,y_train)\n",
    "nb_zeros_lin = sum(np.array(lin.coef_) == 0)\n",
    "mean_lin = np.abs(np.array(lin.coef_).mean())\n",
    "score_lin = lin.score(x_test,y_test)\n",
    "\n",
    "print(\"nb_zeros_lin : {0}\".format(nb_zeros_lin))\n",
    "print(\"mean_lin : {0}\".format(mean_lin))\n",
    "print(\"score_lin : {0}\".format(score_lin))\n",
    "print(\"\\n\")"
   ]
  },
  {
   "cell_type": "code",
   "execution_count": 51,
   "metadata": {},
   "outputs": [
    {
     "name": "stdout",
     "output_type": "stream",
     "text": [
      "nb_zeros_ridge25 : 0\n",
      "mean_ridge25 : 0.00868729697664616\n",
      "score_ridge25 : 0.5890910028129361\n",
      "\n",
      "\n",
      "nb_zeros_ridge5 : 0\n",
      "mean_ridge5 : 0.008605691595768614\n",
      "score_ridge5 : 0.5891208931344325\n",
      "\n",
      "\n",
      "nb_zeros_ridge75 : 0\n",
      "mean_ridge75 : 0.008527520678511927\n",
      "score_ridge75 : 0.5891503252908986\n",
      "\n",
      "\n",
      "nb_zeros_ridge100 : 0\n",
      "mean_ridge100 : 0.008452551730036745\n",
      "score_ridge100 : 0.5891793348140035\n",
      "\n",
      "\n"
     ]
    }
   ],
   "source": [
    "#Régression Ridge \n",
    "\n",
    "#Pour alpha = 0.25\n",
    "ridge25 = R(alpha=0.25)\n",
    "ridge25.fit(x_train,y_train)\n",
    "nb_zeros_ridge25 = sum(np.array(ridge25.coef_) == 0)\n",
    "mean_ridge25 = np.abs(np.array(ridge25.coef_).mean())\n",
    "score_ridge25 = ridge25.score(x_test,y_test)\n",
    "\n",
    "print(\"nb_zeros_ridge25 : {0}\".format(nb_zeros_ridge25))\n",
    "print(\"mean_ridge25 : {0}\".format(mean_ridge25))\n",
    "print(\"score_ridge25 : {0}\".format(score_ridge25))\n",
    "print(\"\\n\")\n",
    "\n",
    "#Pour alpha = 0.5\n",
    "ridge5 = R(alpha=0.5)\n",
    "ridge5.fit(x_train,y_train)\n",
    "nb_zeros_ridge5 = sum(np.array(ridge5.coef_) == 0)\n",
    "mean_ridge5 = np.abs(np.array(ridge5.coef_).mean())\n",
    "score_ridge5 = ridge5.score(x_test,y_test)\n",
    "\n",
    "print(\"nb_zeros_ridge5 : {0}\".format(nb_zeros_ridge5))\n",
    "print(\"mean_ridge5 : {0}\".format(mean_ridge5))\n",
    "print(\"score_ridge5 : {0}\".format(score_ridge5))\n",
    "print(\"\\n\")\n",
    "\n",
    "#Pour alpha = 0.75\n",
    "ridge75 = R(alpha=0.75)\n",
    "ridge75.fit(x_train,y_train)\n",
    "nb_zeros_ridge75 = sum(np.array(ridge75.coef_) == 0)\n",
    "mean_ridge75 = np.abs(np.array(ridge75.coef_).mean())\n",
    "score_ridge75 = ridge75.score(x_test,y_test)\n",
    "\n",
    "print(\"nb_zeros_ridge75 : {0}\".format(nb_zeros_ridge75))\n",
    "print(\"mean_ridge75 : {0}\".format(mean_ridge75))\n",
    "print(\"score_ridge75 : {0}\".format(score_ridge75))\n",
    "print(\"\\n\")\n",
    "\n",
    "#Pour alpha = 1.00\n",
    "ridge100 = R()\n",
    "ridge100.fit(x_train,y_train)\n",
    "nb_zeros_ridge100 = sum(np.array(ridge100.coef_) == 0)\n",
    "mean_ridge100 = np.abs(np.array(ridge100.coef_).mean())\n",
    "score_ridge100 = ridge100.score(x_test,y_test)\n",
    "\n",
    "print(\"nb_zeros_ridge100 : {0}\".format(nb_zeros_ridge100))\n",
    "print(\"mean_ridge100 : {0}\".format(mean_ridge100))\n",
    "print(\"score_ridge100 : {0}\".format(score_ridge100))\n",
    "print(\"\\n\")"
   ]
  },
  {
   "cell_type": "code",
   "execution_count": 54,
   "metadata": {},
   "outputs": [
    {
     "name": "stdout",
     "output_type": "stream",
     "text": [
      "nb_zeros_ridgeL25 : 228\n",
      "mean_ridgeL25 : 0.0022371190663526075\n",
      "score_ridgeL25 : 0.49173662360426335\n",
      "\n",
      "\n",
      "nb_zeros_ridgeL5 : 241\n",
      "mean_ridgeL5 : 0.002633647358145477\n",
      "score_ridgeL5 : 0.3945953158410368\n",
      "\n",
      "\n",
      "nb_zeros_ridgeL75 : 248\n",
      "mean_ridgeL75 : 0.002059619367114527\n",
      "score_ridgeL75 : 0.2907511425941136\n",
      "\n",
      "\n",
      "nb_zeros_ridgeL100 : 252\n",
      "mean_ridgeL100 : 0.0011849242014583814\n",
      "score_ridgeL100 : 0.19001898995000144\n",
      "\n",
      "\n",
      "(256,)\n"
     ]
    }
   ],
   "source": [
    "#Régression LASSO \n",
    "\n",
    "#Pour alpha = 0.25\n",
    "ridgeL25 = LA(alpha=0.25)\n",
    "ridgeL25.fit(x_train,y_train)\n",
    "nb_zeros_ridgeL25 = sum(np.array(ridgeL25.coef_) == 0)\n",
    "mean_ridgeL25 = np.abs(np.array(ridgeL25.coef_).mean())\n",
    "score_ridgeL25 = ridgeL25.score(x_test,y_test)\n",
    "\n",
    "print(\"nb_zeros_ridgeL25 : {0}\".format(nb_zeros_ridgeL25))\n",
    "print(\"mean_ridgeL25 : {0}\".format(mean_ridgeL25))\n",
    "print(\"score_ridgeL25 : {0}\".format(score_ridgeL25))\n",
    "print(\"\\n\")\n",
    "\n",
    "#Pour alpha = 0.5\n",
    "ridgeL5 = LA(alpha=0.5)\n",
    "ridgeL5.fit(x_train,y_train)\n",
    "nb_zeros_ridgeL5 = sum(np.array(ridgeL5.coef_) == 0)\n",
    "mean_ridgeL5 = np.abs(np.array(ridgeL5.coef_).mean())\n",
    "score_ridgeL5 = ridgeL5.score(x_test,y_test)\n",
    "\n",
    "print(\"nb_zeros_ridgeL5 : {0}\".format(nb_zeros_ridgeL5))\n",
    "print(\"mean_ridgeL5 : {0}\".format(mean_ridgeL5))\n",
    "print(\"score_ridgeL5 : {0}\".format(score_ridgeL5))\n",
    "print(\"\\n\")\n",
    "\n",
    "#Pour alpha = 0.75\n",
    "ridgeL75 = LA(alpha=0.75)\n",
    "ridgeL75.fit(x_train,y_train)\n",
    "nb_zeros_ridgeL75 = sum(np.array(ridgeL75.coef_) == 0)\n",
    "mean_ridgeL75 = np.abs(np.array(ridgeL75.coef_).mean())\n",
    "score_ridgeL75 = ridgeL75.score(x_test,y_test)\n",
    "\n",
    "print(\"nb_zeros_ridgeL75 : {0}\".format(nb_zeros_ridgeL75))\n",
    "print(\"mean_ridgeL75 : {0}\".format(mean_ridgeL75))\n",
    "print(\"score_ridgeL75 : {0}\".format(score_ridgeL75))\n",
    "print(\"\\n\")\n",
    "\n",
    "#Pour alpha = 1.00\n",
    "ridgeL100 = LA()\n",
    "ridgeL100.fit(x_train,y_train)\n",
    "nb_zeros_ridgeL100 = sum(np.array(ridgeL100.coef_) == 0)\n",
    "mean_ridgeL100 = np.abs(np.array(ridgeL100.coef_).mean())\n",
    "score_ridgeL100 = ridgeL100.score(x_test,y_test)\n",
    "\n",
    "print(\"nb_zeros_ridgeL100 : {0}\".format(nb_zeros_ridgeL100))\n",
    "print(\"mean_ridgeL100 : {0}\".format(mean_ridgeL100))\n",
    "print(\"score_ridgeL100 : {0}\".format(score_ridgeL100))\n",
    "print(\"\\n\")\n",
    "\n",
    "#print(ridgeL100.coef_.shape)"
   ]
  },
  {
   "cell_type": "code",
   "execution_count": null,
   "metadata": {},
   "outputs": [],
   "source": []
  }
 ],
 "metadata": {
  "kernelspec": {
   "display_name": "Python 3",
   "language": "python",
   "name": "python3"
  },
  "language_info": {
   "codemirror_mode": {
    "name": "ipython",
    "version": 3
   },
   "file_extension": ".py",
   "mimetype": "text/x-python",
   "name": "python",
   "nbconvert_exporter": "python",
   "pygments_lexer": "ipython3",
   "version": "3.6.1"
  }
 },
 "nbformat": 4,
 "nbformat_minor": 2
}
